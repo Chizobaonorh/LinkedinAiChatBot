{
 "cells": [
  {
   "cell_type": "code",
   "execution_count": 1,
   "id": "32ad0dc9",
   "metadata": {},
   "outputs": [
    {
     "name": "stderr",
     "output_type": "stream",
     "text": [
      "/Users/chizober/projects/LinkedinAiChatBot/venv/lib/python3.11/site-packages/tqdm/auto.py:21: TqdmWarning: IProgress not found. Please update jupyter and ipywidgets. See https://ipywidgets.readthedocs.io/en/stable/user_install.html\n",
      "  from .autonotebook import tqdm as notebook_tqdm\n"
     ]
    }
   ],
   "source": [
    "from dotenv import load_dotenv\n",
    "from openai import OpenAI\n",
    "from pypdf import PdfReader\n",
    "import gradio as gr"
   ]
  },
  {
   "cell_type": "code",
   "execution_count": 2,
   "id": "0879d3e9",
   "metadata": {},
   "outputs": [],
   "source": [
    "load_dotenv(override=True)\n",
    "openai = OpenAI()"
   ]
  },
  {
   "cell_type": "code",
   "execution_count": 3,
   "id": "2c767f78",
   "metadata": {},
   "outputs": [
    {
     "name": "stdout",
     "output_type": "stream",
     "text": [
      "   \n",
      "Contact\n",
      "rewardonorh@gmail.com\n",
      "www.linkedin.com/in/\n",
      "chizobaononlememen (LinkedIn)\n",
      "Top Skills\n",
      "Spring Boot\n",
      "Spring Framework\n",
      "Node.js\n",
      "Languages\n",
      "French (Elementary)\n",
      "English (Professional Working)\n",
      "Certifications\n",
      "Web Development Pro bootcamp\n",
      "Programming for Everybody(Getting\n",
      "started with Python)\n",
      "Python Pro Bootcamp\n",
      "Technical Writing Certification\n",
      "Course\n",
      "API Documentation Course\n",
      "Honors-Awards\n",
      "Writing in Sciences\n",
      "Publications\n",
      "The Burn-Out Feeling.\n",
      "Why your New year's resolution\n",
      "never works.\n",
      "Bitcoin Halving and the Future of\n",
      "Bitcoin.\n",
      "A simplified Beginner's guide to\n",
      "Cryptocurrency\n",
      "All you need to know about\n",
      "Consensus Mechanisms.\n",
      "Chizoba Ononlememen\n",
      "Software Engineer || ML Engineer || Technical Writer\n",
      "Nigeria\n",
      "Experience\n",
      "eTranzact PLC\n",
      "Software Developer\n",
      "April 2025 - Present (5 months)\n",
      "WAGMI DAO\n",
      "Social media Manager and Content Writer\n",
      "June 2024 - Present (1 year 3 months)\n",
      "Manages the social media pages for WAGMI DAO and creates their content\n",
      "Open source contribution\n",
      "Technical Writer\n",
      "June 2023 - August 2024 (1 year 3 months)\n",
      "- I improved the documentation for a Codebooker project by rewriting the\n",
      "documentation with clear guidelines, instructions, code snippets, and graphics\n",
      "for utilizing the project's API and developing the project.\n",
      "- I deployed and configured a TSDocs tool for a Google/labs prototype\n",
      "project that ran on a TypeScript commented code to successfully generate its\n",
      "documentation.\n",
      "- Worked on a Bored API project that suggests activities to do for fun, and\n",
      "used Stoplight.io to write its documentation and document its endpoints.\n",
      "- Built a basic API using Node JS and MongoDB to give me an in-depth\n",
      "understanding of how API works, and to better understand how to document it\n",
      "properly for users.\n",
      "- I contributed my documentation skills to a Pretashop Docs project, where I\n",
      "worked on improving their documentation for better user understanding and\n",
      "readability, fixed typos and grammatical blunders in the docs.\n",
      "- I developed an OpenAPI specification (OAS) based on the TMDB movie API\n",
      "reference documentation. This OAS enables users to easily retrieve movie\n",
      "  Page 1 of 2   \n",
      "names, IDs, and curl requests using just a keyword. It offers a user-friendly\n",
      "experience and provides a try-it-out experience for users.\n",
      "- Worked on deploying live the Github pages of an open-source project's\n",
      "documentation, utilizing Jekyll tool for streamlined content management and\n",
      "presentation.\n",
      "Herald Sheets\n",
      "Web3 Content Writer\n",
      "September 2022 - February 2023 (6 months)\n",
      "-Authored and published more than 600 high-quality articles on technical\n",
      "subjects.\n",
      "-Demonstrated expertise in boosting website traffic and article reviews through\n",
      "effective SEO strategies, company saw more engagements on their posts.\n",
      "-Proficiently oversaw content editing processes to ensure consistent quality.\n",
      "Education\n",
      "University of Lagos\n",
      "Bsc, Systems Engineering · (2019 - 2025)\n",
      "  Page 2 of 2\n"
     ]
    }
   ],
   "source": [
    "reader = PdfReader(\"./docs/Profile.pdf\")\n",
    "linkedin = \"\"\n",
    "for page in reader.pages:\n",
    "    text = page.extract_text()\n",
    "    if text:\n",
    "        linkedin += text\n",
    "\n",
    "print(linkedin)"
   ]
  },
  {
   "cell_type": "code",
   "execution_count": 4,
   "id": "4d430546",
   "metadata": {},
   "outputs": [
    {
     "data": {
      "text/plain": [
       "'Chizoba Onorh is a passionate builder who loves turning ideas into real projects with Java, Python and ML. She’s always experimenting — whether it’s training smart models with TensorFlow or building sleek RESTful APIs and web apps with Spring Boot. Her knack for Machine Learning keeps her curious and busy, from playing with data to crafting small AI solutions that solve real problems. When she’s not coding, Chizoba turns complex tech into simple, helpful words as a technical writer with 5 years of experience. She’s also an active member of Google DSC and Nithub, always sharing, learning, and growing with her community.'"
      ]
     },
     "execution_count": 4,
     "metadata": {},
     "output_type": "execute_result"
    }
   ],
   "source": [
    "with open(\"./docs/summary.txt\", \"r\", encoding=\"utf-8\") as f:\n",
    "    summary = f.read()\n",
    "\n",
    "summary"
   ]
  },
  {
   "cell_type": "code",
   "execution_count": 5,
   "id": "bc71a42f",
   "metadata": {},
   "outputs": [],
   "source": [
    "name = \"Chizoba Ononlememen\""
   ]
  },
  {
   "cell_type": "code",
   "execution_count": 6,
   "id": "9378d1d2",
   "metadata": {},
   "outputs": [],
   "source": [
    "system_prompt = f\"\"\" You are acting as {name} and answering questions about your work profile, particularly questions related\n",
    "to {name}'s work experience, skills, projects, and education. Your major responsibility will be\n",
    "to represent {name} in a way that is both accurate and professional. \n",
    "You are given a summary of {name}'s work profile and also linkedin profile. Use this to answer \n",
    "questions. Be professional and engaging, as if talking to a potential employer or client who came across your page. \n",
    "If you don't know the answer, say No.\n",
    "\"\"\"\n",
    "\n",
    "system_prompt += f\"\\n\\nSummary: {summary}\\n\\n## LinkedIn Profile: {linkedin}\"\n",
    "system_prompt += f\"With this context, please chat with the user, always staying in character as {name}.\"\n"
   ]
  },
  {
   "cell_type": "code",
   "execution_count": 7,
   "id": "4cf4bf21",
   "metadata": {},
   "outputs": [
    {
     "name": "stdout",
     "output_type": "stream",
     "text": [
      " You are acting as Chizoba Ononlememen and answering questions about your work profile, particularly questions related\n",
      "to Chizoba Ononlememen's work experience, skills, projects, and education. Your major responsibility will be\n",
      "to represent Chizoba Ononlememen in a way that is both accurate and professional. \n",
      "You are given a summary of Chizoba Ononlememen's work profile and also linkedin profile. Use this to answer \n",
      "questions. Be professional and engaging, as if talking to a potential employer or client who came across your page. \n",
      "If you don't know the answer, say No.\n",
      "\n",
      "\n",
      "Summary: Chizoba Onorh is a passionate builder who loves turning ideas into real projects with Java, Python and ML. She’s always experimenting — whether it’s training smart models with TensorFlow or building sleek RESTful APIs and web apps with Spring Boot. Her knack for Machine Learning keeps her curious and busy, from playing with data to crafting small AI solutions that solve real problems. When she’s not coding, Chizoba turns complex tech into simple, helpful words as a technical writer with 5 years of experience. She’s also an active member of Google DSC and Nithub, always sharing, learning, and growing with her community.\n",
      "\n",
      "## LinkedIn Profile:    \n",
      "Contact\n",
      "rewardonorh@gmail.com\n",
      "www.linkedin.com/in/\n",
      "chizobaononlememen (LinkedIn)\n",
      "Top Skills\n",
      "Spring Boot\n",
      "Spring Framework\n",
      "Node.js\n",
      "Languages\n",
      "French (Elementary)\n",
      "English (Professional Working)\n",
      "Certifications\n",
      "Web Development Pro bootcamp\n",
      "Programming for Everybody(Getting\n",
      "started with Python)\n",
      "Python Pro Bootcamp\n",
      "Technical Writing Certification\n",
      "Course\n",
      "API Documentation Course\n",
      "Honors-Awards\n",
      "Writing in Sciences\n",
      "Publications\n",
      "The Burn-Out Feeling.\n",
      "Why your New year's resolution\n",
      "never works.\n",
      "Bitcoin Halving and the Future of\n",
      "Bitcoin.\n",
      "A simplified Beginner's guide to\n",
      "Cryptocurrency\n",
      "All you need to know about\n",
      "Consensus Mechanisms.\n",
      "Chizoba Ononlememen\n",
      "Software Engineer || ML Engineer || Technical Writer\n",
      "Nigeria\n",
      "Experience\n",
      "eTranzact PLC\n",
      "Software Developer\n",
      "April 2025 - Present (5 months)\n",
      "WAGMI DAO\n",
      "Social media Manager and Content Writer\n",
      "June 2024 - Present (1 year 3 months)\n",
      "Manages the social media pages for WAGMI DAO and creates their content\n",
      "Open source contribution\n",
      "Technical Writer\n",
      "June 2023 - August 2024 (1 year 3 months)\n",
      "- I improved the documentation for a Codebooker project by rewriting the\n",
      "documentation with clear guidelines, instructions, code snippets, and graphics\n",
      "for utilizing the project's API and developing the project.\n",
      "- I deployed and configured a TSDocs tool for a Google/labs prototype\n",
      "project that ran on a TypeScript commented code to successfully generate its\n",
      "documentation.\n",
      "- Worked on a Bored API project that suggests activities to do for fun, and\n",
      "used Stoplight.io to write its documentation and document its endpoints.\n",
      "- Built a basic API using Node JS and MongoDB to give me an in-depth\n",
      "understanding of how API works, and to better understand how to document it\n",
      "properly for users.\n",
      "- I contributed my documentation skills to a Pretashop Docs project, where I\n",
      "worked on improving their documentation for better user understanding and\n",
      "readability, fixed typos and grammatical blunders in the docs.\n",
      "- I developed an OpenAPI specification (OAS) based on the TMDB movie API\n",
      "reference documentation. This OAS enables users to easily retrieve movie\n",
      "  Page 1 of 2   \n",
      "names, IDs, and curl requests using just a keyword. It offers a user-friendly\n",
      "experience and provides a try-it-out experience for users.\n",
      "- Worked on deploying live the Github pages of an open-source project's\n",
      "documentation, utilizing Jekyll tool for streamlined content management and\n",
      "presentation.\n",
      "Herald Sheets\n",
      "Web3 Content Writer\n",
      "September 2022 - February 2023 (6 months)\n",
      "-Authored and published more than 600 high-quality articles on technical\n",
      "subjects.\n",
      "-Demonstrated expertise in boosting website traffic and article reviews through\n",
      "effective SEO strategies, company saw more engagements on their posts.\n",
      "-Proficiently oversaw content editing processes to ensure consistent quality.\n",
      "Education\n",
      "University of Lagos\n",
      "Bsc, Systems Engineering · (2019 - 2025)\n",
      "  Page 2 of 2With this context, please chat with the user, always staying in character as Chizoba Ononlememen.\n"
     ]
    }
   ],
   "source": [
    "print(system_prompt)"
   ]
  },
  {
   "cell_type": "code",
   "execution_count": 8,
   "id": "983d2696",
   "metadata": {},
   "outputs": [],
   "source": [
    "def chat(message, history):\n",
    "    messages = [{\"role\": \"system\", \"content\": system_prompt}]+ history +[{\"role\": \"user\", \"content\": message}]\n",
    "\n",
    "    response = openai.chat.completions.create(\n",
    "        model=\"gpt-4o-mini\",\n",
    "        messages=messages)\n",
    "    \n",
    "    return response.choices[0].message.content"
   ]
  },
  {
   "cell_type": "code",
   "execution_count": 9,
   "id": "4a928dcb",
   "metadata": {},
   "outputs": [
    {
     "name": "stdout",
     "output_type": "stream",
     "text": [
      "* Running on local URL:  http://127.0.0.1:7860\n",
      "* To create a public link, set `share=True` in `launch()`.\n"
     ]
    },
    {
     "data": {
      "text/html": [
       "<div><iframe src=\"http://127.0.0.1:7860/\" width=\"100%\" height=\"500\" allow=\"autoplay; camera; microphone; clipboard-read; clipboard-write;\" frameborder=\"0\" allowfullscreen></iframe></div>"
      ],
      "text/plain": [
       "<IPython.core.display.HTML object>"
      ]
     },
     "metadata": {},
     "output_type": "display_data"
    },
    {
     "data": {
      "text/plain": []
     },
     "execution_count": 9,
     "metadata": {},
     "output_type": "execute_result"
    }
   ],
   "source": [
    "gr.ChatInterface(chat, type=\"messages\").launch()"
   ]
  },
  {
   "cell_type": "code",
   "execution_count": 32,
   "id": "44424f38",
   "metadata": {},
   "outputs": [],
   "source": [
    "from pydantic import BaseModel\n",
    "\n",
    "class Evaluation(BaseModel):\n",
    "    is_acceptable: bool\n",
    "    feedback: str\n",
    "    \n"
   ]
  },
  {
   "cell_type": "code",
   "execution_count": 12,
   "id": "d8f44680",
   "metadata": {},
   "outputs": [],
   "source": [
    "evaluator_system_prompt = f\"You are an evaluator that decides whether a response to a question is acceptable. \\\n",
    "    You are provided with a conversation between a User and an Agent. Your task is to decide whether the Agent's latest response is acceptable quality. \\\n",
    "        The Agent is playing the role of {name} and is representing {name} on their website. \\\n",
    "            The Agent has been instructed to be professional and engaging, as if talking to a potential client or future employer who came across the website. \\\n",
    "                The Agent has been provided with context on {name} in the form of their summary and Linkedin details. Here's the information \"\n",
    "\n",
    "evaluator_system_prompt += f\"\\n\\n## Summary:\\n{summary}\\n\\n ##LinkedIn Profile: \\n{linkedin}\\n\\n\"\n",
    "evaluator_system_prompt += f\"With this context, please evaluate the latest response, replying with whether the response is acceptable and your feedback.\""
   ]
  },
  {
   "cell_type": "code",
   "execution_count": 14,
   "id": "bc482084",
   "metadata": {},
   "outputs": [],
   "source": [
    "def evaluator_user_prompt(reply, message, history):\n",
    "    user_prompt = f\"Here's the conversation between the User and the Agent: \\n\\n{history}\\n\\n\"\n",
    "    user_prompt += f\"Here's the latest message from the User: \\n\\n{message}\\n\\n\"\n",
    "    user_prompt += f\"Here's the latest response from the Agent: \\n\\n{reply}\\n\\n\"\n",
    "    user_prompt += f\"Please evaluate the response, replying with whether it is acceptable and your feedback.\"\n",
    "\n",
    "    return user_prompt"
   ]
  },
  {
   "cell_type": "code",
   "execution_count": 15,
   "id": "20f8d953",
   "metadata": {},
   "outputs": [],
   "source": [
    "import os\n",
    "gemini = OpenAI(\n",
    "    api_key = os.getenv(\"GOOGLE_API_KEY\"),\n",
    "    base_url = \"https://generativelanguage.googleapis.com/v1beta/openai/\"\n",
    "\n",
    ")\n"
   ]
  },
  {
   "cell_type": "code",
   "execution_count": 36,
   "id": "9f490f8c",
   "metadata": {},
   "outputs": [],
   "source": [
    "def evaluate(reply, message, history) -> Evaluation:\n",
    "    messages = [{\"role\": \"system\", \"content\": evaluator_system_prompt}] + [{\"role\": \"user\", \"content\": evaluator_user_prompt(reply, message, history)}]\n",
    "    response = gemini.beta.chat.completions.parse(model=\"gemini-2.0-flash\", messages=messages, response_format=Evaluation)\n",
    "    return response.choices[0].message.parsed\n"
   ]
  },
  {
   "cell_type": "code",
   "execution_count": 37,
   "id": "79a28f93",
   "metadata": {},
   "outputs": [],
   "source": [
    "messages = [{\"role\": \"system\", \"content\": system_prompt}] + [{\"role\": \"user\", \"content\": \"do you hold a patent?\"}]\n",
    "response = openai.chat.completions.create(model=\"gpt-4o-mini\", messages=messages)\n",
    "reply = response.choices[0].message.content"
   ]
  },
  {
   "cell_type": "code",
   "execution_count": 38,
   "id": "06cf0420",
   "metadata": {},
   "outputs": [
    {
     "name": "stdout",
     "output_type": "stream",
     "text": [
      "[{'role': 'system', 'content': \" You are acting as Chizoba Ononlememen and answering questions about your work profile, particularly questions related\\nto Chizoba Ononlememen's work experience, skills, projects, and education. Your major responsibility will be\\nto represent Chizoba Ononlememen in a way that is both accurate and professional. \\nYou are given a summary of Chizoba Ononlememen's work profile and also linkedin profile. Use this to answer \\nquestions. Be professional and engaging, as if talking to a potential employer or client who came across your page. \\nIf you don't know the answer, say No.\\n\\n\\nSummary: Chizoba Onorh is a passionate builder who loves turning ideas into real projects with Java, Python and ML. She’s always experimenting — whether it’s training smart models with TensorFlow or building sleek RESTful APIs and web apps with Spring Boot. Her knack for Machine Learning keeps her curious and busy, from playing with data to crafting small AI solutions that solve real problems. When she’s not coding, Chizoba turns complex tech into simple, helpful words as a technical writer with 5 years of experience. She’s also an active member of Google DSC and Nithub, always sharing, learning, and growing with her community.\\n\\n## LinkedIn Profile: \\xa0 \\xa0\\nContact\\nrewardonorh@gmail.com\\nwww.linkedin.com/in/\\nchizobaononlememen (LinkedIn)\\nTop Skills\\nSpring Boot\\nSpring Framework\\nNode.js\\nLanguages\\nFrench (Elementary)\\nEnglish (Professional Working)\\nCertifications\\nWeb Development Pro bootcamp\\nProgramming for Everybody(Getting\\nstarted with Python)\\nPython Pro Bootcamp\\nTechnical Writing Certification\\nCourse\\nAPI Documentation Course\\nHonors-Awards\\nWriting in Sciences\\nPublications\\nThe Burn-Out Feeling.\\nWhy your New year's resolution\\nnever works.\\nBitcoin Halving and the Future of\\nBitcoin.\\nA simplified Beginner's guide to\\nCryptocurrency\\nAll you need to know about\\nConsensus Mechanisms.\\nChizoba Ononlememen\\nSoftware Engineer || ML Engineer || Technical Writer\\nNigeria\\nExperience\\neTranzact PLC\\nSoftware Developer\\nApril 2025\\xa0-\\xa0Present\\xa0(5 months)\\nWAGMI DAO\\nSocial media Manager and Content Writer\\nJune 2024\\xa0-\\xa0Present\\xa0(1 year 3 months)\\nManages the social media pages for WAGMI DAO and creates their content\\nOpen source contribution\\nTechnical Writer\\nJune 2023\\xa0-\\xa0August 2024\\xa0(1 year 3 months)\\n- I improved the documentation for a Codebooker project by rewriting the\\ndocumentation with clear guidelines, instructions, code snippets, and graphics\\nfor utilizing the project's API and developing the project.\\n- I deployed and configured a TSDocs tool for a Google/labs prototype\\nproject that ran on a TypeScript commented code to successfully generate its\\ndocumentation.\\n- Worked on a Bored API project that suggests activities to do for fun, and\\nused Stoplight.io to write its documentation and document its endpoints.\\n- Built a basic API using Node JS and MongoDB to give me an in-depth\\nunderstanding of how API works, and to better understand how to document it\\nproperly for users.\\n- I contributed my documentation skills to a Pretashop Docs project, where I\\nworked on improving their documentation for better user understanding and\\nreadability, fixed typos and grammatical blunders in the docs.\\n- I developed an OpenAPI specification (OAS) based on the TMDB movie API\\nreference documentation. This OAS enables users to easily retrieve movie\\n\\xa0 Page 1 of 2\\xa0 \\xa0\\nnames, IDs, and curl requests using just a keyword. It offers a user-friendly\\nexperience and provides a try-it-out experience for users.\\n- Worked on deploying live the Github pages of an open-source project's\\ndocumentation, utilizing Jekyll tool for streamlined content management and\\npresentation.\\nHerald Sheets\\nWeb3 Content Writer\\nSeptember 2022\\xa0-\\xa0February 2023\\xa0(6 months)\\n-Authored and published more than 600 high-quality articles on technical\\nsubjects.\\n-Demonstrated expertise in boosting website traffic and article reviews through\\neffective SEO strategies, company saw more engagements on their posts.\\n-Proficiently oversaw content editing processes to ensure consistent quality.\\nEducation\\nUniversity of Lagos\\nBsc,\\xa0Systems Engineering\\xa0·\\xa0(2019\\xa0-\\xa02025)\\n\\xa0 Page 2 of 2With this context, please chat with the user, always staying in character as Chizoba Ononlememen.\"}]\n"
     ]
    }
   ],
   "source": [
    "reply\n",
    "print(messages[:1])"
   ]
  },
  {
   "cell_type": "code",
   "execution_count": 39,
   "id": "e21ef26f",
   "metadata": {},
   "outputs": [
    {
     "data": {
      "text/plain": [
       "Evaluation(is_acceptable=True, feedback='The agent appropriately answers that it does not have a patent, which is not listed on the LinkedIn or summary.')"
      ]
     },
     "execution_count": 39,
     "metadata": {},
     "output_type": "execute_result"
    }
   ],
   "source": [
    "evaluate(reply, \"do you hold a patent?\", messages[:1])"
   ]
  },
  {
   "cell_type": "code",
   "execution_count": 41,
   "id": "14bd29df",
   "metadata": {},
   "outputs": [],
   "source": [
    "def rerun(reply, message, history, feedback):\n",
    "    updated_system_prompt = system_prompt + \"\\n\\n## Previous answer rejected\\nYou just tried to reply, but the quality control rejected your reply\\n\"\n",
    "    updated_system_prompt += f\"##Your attempted answer:\\n{reply}\\n\\n\"\n",
    "    updated_system_prompt += f\"Reason for rejection:\\n{feedback}\\n\\n\"\n",
    "    messages = [{\"role\": \"system\", \"content\": updated_system_prompt}] + history + [{\"role\": \"user\", \"content\": message}]\n",
    "    response = openai.chat.completions.create(model=\"gpt-4o-mini\", messages=messages)\n",
    "    return response.choices[0].message.content"
   ]
  },
  {
   "cell_type": "code",
   "execution_count": 42,
   "id": "d8420d58",
   "metadata": {},
   "outputs": [],
   "source": [
    "def chat(message, history):\n",
    "    if \"patent\" in message:\n",
    "        system = system_prompt + \"\\n\\nEverything in your reply needs to be in pig latin - \\\n",
    "            it is mandatory that you respond entirely in pig latin\"\n",
    "    else:\n",
    "        system = system_prompt\n",
    "    messages = [{\"role\": \"system\", \"content\": system}] + history + [{\"role\": \"user\", \"content\": message}]\n",
    "    response = openai.chat.completions.create(model=\"gpt-4o-mini\", messages=messages)\n",
    "    reply = response.choices[0].message.content\n",
    "\n",
    "    evaluation = evaluate(reply, message, history)\n",
    "\n",
    "    if evaluation.is_acceptable:\n",
    "        print(\"Passed evaluation - returning reply\")\n",
    "    else:\n",
    "        print(\"Failed evaluation - retrying\")\n",
    "        print(evaluation.feedback)\n",
    "        reply = rerun(reply, message, history, evaluation.feedback)\n",
    "    return reply\n"
   ]
  },
  {
   "cell_type": "code",
   "execution_count": null,
   "id": "ca774a0c",
   "metadata": {},
   "outputs": [
    {
     "name": "stdout",
     "output_type": "stream",
     "text": [
      "* Running on local URL:  http://127.0.0.1:7865\n",
      "* To create a public link, set `share=True` in `launch()`.\n"
     ]
    },
    {
     "data": {
      "text/html": [
       "<div><iframe src=\"http://127.0.0.1:7865/\" width=\"100%\" height=\"500\" allow=\"autoplay; camera; microphone; clipboard-read; clipboard-write;\" frameborder=\"0\" allowfullscreen></iframe></div>"
      ],
      "text/plain": [
       "<IPython.core.display.HTML object>"
      ]
     },
     "metadata": {},
     "output_type": "display_data"
    },
    {
     "data": {
      "text/plain": []
     },
     "execution_count": 43,
     "metadata": {},
     "output_type": "execute_result"
    },
    {
     "name": "stdout",
     "output_type": "stream",
     "text": [
      "Passed evaluation - returning reply\n",
      "Passed evaluation - returning reply\n",
      "Passed evaluation - returning reply\n",
      "Failed evaluation - retrying\n",
      "This is not an acceptable response. The agent's response is gibberish and makes no sense. The agent should apologize and ask the user to rephrase their question.\n"
     ]
    }
   ],
   "source": [
    "gr.ChatInterface(chat, type=\"messages\").launch()"
   ]
  }
 ],
 "metadata": {
  "kernelspec": {
   "display_name": "venv",
   "language": "python",
   "name": "python3"
  },
  "language_info": {
   "codemirror_mode": {
    "name": "ipython",
    "version": 3
   },
   "file_extension": ".py",
   "mimetype": "text/x-python",
   "name": "python",
   "nbconvert_exporter": "python",
   "pygments_lexer": "ipython3",
   "version": "3.11.3"
  }
 },
 "nbformat": 4,
 "nbformat_minor": 5
}
